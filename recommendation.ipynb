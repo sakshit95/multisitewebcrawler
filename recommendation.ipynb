{
 "cells": [
  {
   "cell_type": "code",
   "execution_count": null,
   "metadata": {
    "collapsed": true
   },
   "outputs": [],
   "source": [
    "import pandas as pd\n",
    "import numpy as np\n"
   ]
  },
  {
   "cell_type": "code",
   "execution_count": null,
   "metadata": {
    "collapsed": true
   },
   "outputs": [],
   "source": [
    "def open(csv):\n",
    "    try:\n",
    "        df = pd.read_csv(csv )\n",
    "        return df\n",
    "    except Exception as e:\n",
    "        return None"
   ]
  },
  {
   "cell_type": "code",
   "execution_count": null,
   "metadata": {
    "collapsed": true
   },
   "outputs": [],
   "source": [
    "df = open('database/shopclues_sarees.csv')\n",
    "col_to_remove =df.columns.str.contains('unnamed',case = False)\n",
    "df.drop(df.columns[col_to_remove],axis = 1,inplace=True)"
   ]
  },
  {
   "cell_type": "code",
   "execution_count": null,
   "metadata": {
    "collapsed": true
   },
   "outputs": [],
   "source": [
    "df['discount']=df['Striked Price'] - df['sale_price']"
   ]
  },
  {
   "cell_type": "code",
   "execution_count": null,
   "metadata": {},
   "outputs": [],
   "source": [
    "df"
   ]
  },
  {
   "cell_type": "code",
   "execution_count": null,
   "metadata": {
    "collapsed": true
   },
   "outputs": [],
   "source": [
    "def review_top(df,pos=0):\n",
    "    #print(df.iloc[pos].to_string())\n",
    "    name = df.iloc[pos]['name']\n",
    "    review = df.iloc[pos]['reviews']\n",
    "    rating = df.iloc[pos]['rating']\n",
    "    price = df.iloc[pos]['sale_price']\n",
    "    link = df.iloc[pos]['links']\n",
    "    msg=''\n",
    "    recommend = False\n",
    "    if review >= 3:\n",
    "        if rating >= 3:\n",
    "            recommend = True\n",
    "            msg = f'{name} has the highest reviews ({review}) and overall rating of {rating} stars.\\nThis product has a sale price of Rs. {price}. Copy this link in browser to view\\n{link}'\n",
    "        else:\n",
    "            recommend=False\n",
    "            msg = f'{name} has the highest reviews ({review}) in this category and overall rating of {rating} stars.\\nThis product is has a sale price of Rs. {price}. Copy this link in browser to view\\n{link}'\n",
    "    else:\n",
    "        msg = f'{name} has the highest reviews ({review}) and overall rating of {rating} stars.\\nThis product is has a sale price of Rs. {price}. Copy this link in browser to view\\n{link}'\n",
    "        recommend= False\n",
    "    return {'msg':msg,'status':recommend}\n",
    "                \n",
    "            "
   ]
  },
  {
   "cell_type": "code",
   "execution_count": null,
   "metadata": {},
   "outputs": [],
   "source": [
    "def review_second(df,pos=1):\n",
    "    #print(df.iloc[pos].to_string())\n",
    "    name = df.iloc[pos]['name']\n",
    "    review = df.iloc[pos]['reviews']\n",
    "    rating = df.iloc[pos]['rating']\n",
    "    price = df.iloc[pos]['sale_price']\n",
    "    link = df.iloc[pos]['links']\n",
    "    msg=''\n",
    "    recommend = False\n",
    "    if review >= 3:\n",
    "        if rating >= 3:\n",
    "            recommend = True\n",
    "            msg = f'{name} has the 2nd highest reviews ({review}) and overall rating of {rating} stars.\\nThis product is has a sale price of Rs. {price}. Copy this link in browser to view\\n{link}'\n",
    "        else:\n",
    "            recommend=False\n",
    "            msg = f'{name} has the 2nd highest reviews ({review}) and overall rating of {rating} stars.\\nThis product is has a sale price of Rs. {price}. Copy this link in browser to view\\n{link}'\n",
    "    else:\n",
    "        msg = f'{name} has the 2nd highest reviews ({review}) and overall rating of {rating} stars.\\nThis product is has a sale price of Rs. {price}. Copy this link in browser to view\\n{link}'\n",
    "        recommend= False\n",
    "    return {'msg':msg,'status':recommend}\n",
    "                \n",
    "    "
   ]
  },
  {
   "cell_type": "code",
   "execution_count": null,
   "metadata": {
    "collapsed": true
   },
   "outputs": [],
   "source": [
    "def price_top(df,pos=0):\n",
    "    #print(df.iloc[pos].to_string())\n",
    "    name = df.iloc[pos]['name']\n",
    "    review = df.iloc[pos]['reviews']\n",
    "    rating = df.iloc[pos]['rating']\n",
    "    price = df.iloc[pos]['price']\n",
    "    sprice = df.iloc[pos]['sale_price']\n",
    "    striked = df.iloc[pos]['Striked Price']\n",
    "    availability = df.iloc[pos]['availability']\n",
    "    link = df.iloc[pos]['links']\n",
    "    msg=''\n",
    "    recommend = False\n",
    "    if review >= 3:\n",
    "        if rating >= 3:\n",
    "            recommend = True\n",
    "            msg = f'{name} has the lowest selling price Rs.{sprice} and original price of Rs.{striked}.\\nYou get a discount of  Rs{striked-sprice}. Copy this link in browser to view\\n{link}'\n",
    "        else:\n",
    "            recommend=False\n",
    "            msg = f'{name} has the lowest selling price Rs.{sprice} and original price of Rs.{striked}.\\nYou get a discount of  Rs{striked-sprice}. Copy this link in browser to view\\n{link}'\n",
    "    else:\n",
    "        msg = f'{name} has the lowest selling price Rs.{sprice} and original price of Rs.{striked}.\\nYou get a discount of  Rs{striked-sprice}. Copy this link in browser to view\\n{link}'\n",
    "        recommend= False\n",
    "    return {'msg':msg,'status':recommend}\n",
    "                "
   ]
  },
  {
   "cell_type": "code",
   "execution_count": null,
   "metadata": {
    "collapsed": true
   },
   "outputs": [],
   "source": [
    "def price_second(df,pos=1):\n",
    "    #print(df.iloc[pos].to_string())\n",
    "    name = df.iloc[pos]['name']\n",
    "    review = df.iloc[pos]['reviews']\n",
    "    rating = df.iloc[pos]['rating']\n",
    "    price = df.iloc[pos]['price']\n",
    "    sprice = df.iloc[pos]['sale_price']\n",
    "    striked = df.iloc[pos]['Striked Price']\n",
    "    availability = df.iloc[pos]['availability']\n",
    "    link = df.iloc[pos]['links']\n",
    "    msg=''\n",
    "    recommend = False\n",
    "    if review >= 3:\n",
    "        if rating >= 3:\n",
    "            recommend = True\n",
    "            msg = f'{name} has the 2nd lowest selling price Rs.{sprice} and original price of Rs.{striked}.\\nYou get a discount of  Rs{striked-sprice}. Copy this link in browser to view\\n{link}'\n",
    "        else:\n",
    "            recommend=False\n",
    "            msg = f'{name} has the 2nd lowest selling price Rs.{sprice} and original price of Rs.{striked}.\\nYou get a discount of  Rs{striked-sprice}. Copy this link in browser to view\\n{link}'\n",
    "    else:\n",
    "        msg = f'{name} has the lowest selling price Rs.{sprice} and original price of Rs.{striked}.\\nYou get a discount of  Rs{striked-sprice}. Copy this link in browser to view\\n{link}'\n",
    "        recommend= False\n",
    "    return {'msg':msg,'status':recommend}"
   ]
  },
  {
   "cell_type": "code",
   "execution_count": null,
   "metadata": {
    "collapsed": true
   },
   "outputs": [],
   "source": [
    "def dicount_top(df,pos=0):\n",
    "    name = df.iloc[pos]['name']\n",
    "    review = df.iloc[pos]['reviews']\n",
    "    rating = df.iloc[pos]['rating']\n",
    "    price = df.iloc[pos]['price']\n",
    "    sprice = df.iloc[pos]['sale_price']\n",
    "    striked = df.iloc[pos]['Striked Price']\n",
    "    availability = df.iloc[pos]['availability']\n",
    "    dscnt = df.iloc[pos]['discount']\n",
    "    link = df.iloc[pos]['links']\n",
    "    msg=''\n",
    "    recommend = False\n",
    "    if review >= 3:\n",
    "        if rating >= 3:\n",
    "            recommend = True\n",
    "            msg = f'Highest discounted item is {name}, the discount is Rs.{dscnt}. Copy this link in browser to view\\n{link}'\n",
    "        else:\n",
    "            recommend=False\n",
    "            msg = f'Highest discounted item is {name}, the discount is Rs.{dscnt}. Copy this link in browser to view\\n{link}'\n",
    "    else:\n",
    "        msg = f'Highest discounted item is {name}, the discount is Rs.{dscnt}. Copy this link in browser to view\\n{link}'\n",
    "        recommend= False\n",
    "    return {'msg':msg,'status':recommend}\n",
    "    \n",
    "    "
   ]
  },
  {
   "cell_type": "code",
   "execution_count": null,
   "metadata": {},
   "outputs": [],
   "source": [
    "def recommend_product(df):\n",
    "    reviewdf=df.nlargest(2,'reviews')\n",
    "    pricedf=df.nsmallest(2,'sale_price')\n",
    "    discountdf =df.nlargest(2,'discount')\n",
    "    print(review_top(reviewdf))\n",
    "    print(review_second(reviewdf))\n",
    "    print(price_top(pricedf))\n",
    "    print(price_second(reviewdf))\n",
    "    print(dicount_top(discountdf))\n",
    "    return "
   ]
  },
  {
   "cell_type": "code",
   "execution_count": null,
   "metadata": {},
   "outputs": [],
   "source": [
    "recommend_product(df)"
   ]
  },
  {
   "cell_type": "code",
   "execution_count": null,
   "metadata": {},
   "outputs": [],
   "source": [
    "discountdf =df.nlargest(2,'discount')\n",
    "discountdf"
   ]
  },
  {
   "cell_type": "code",
   "execution_count": null,
   "metadata": {
    "collapsed": true
   },
   "outputs": [],
   "source": []
  },
  {
   "cell_type": "code",
   "execution_count": null,
   "metadata": {
    "collapsed": true
   },
   "outputs": [],
   "source": []
  }
 ],
 "metadata": {
  "kernelspec": {
   "display_name": "Python 3",
   "language": "python",
   "name": "python3"
  },
  "language_info": {
   "codemirror_mode": {
    "name": "ipython",
    "version": 3
   },
   "file_extension": ".py",
   "mimetype": "text/x-python",
   "name": "python",
   "nbconvert_exporter": "python",
   "pygments_lexer": "ipython3",
   "version": "3.6.2"
  }
 },
 "nbformat": 4,
 "nbformat_minor": 1
}
